{
 "cells": [
  {
   "cell_type": "markdown",
   "id": "37771374",
   "metadata": {},
   "source": [
    "Top 10 Mistakes that Django Developers Make - [Article link](https://www.toptal.com/django/django-top-10-mistakes)\n",
    "\n",
    "This article brings some interesting tips for Django (python web framework). Actually tells about behaviours to avoid.\n",
    "\n",
    "# Mistake No. 4: Writing Fat Views and Skinny Models\n",
    "\n",
    "This section is very interesting, talking about writing fat views and skinny models, the problem is that sometimes I need to repeat code or implementations. Sometimes I can solve this extendind the models with specific methods that helps in avoid DRY. With this you can keep your code cleaner and makes tests in an easy way.\n",
    "\n",
    "# Mistake No. 7: `STATIC_DIRS` and `STATIC_ROOT` confuse newbie django developers\n",
    "\n",
    "\n",
    "This section talks about how to manage static files and don't forget to run the command \n",
    "```\n",
    "python runserver collectstatic\n",
    "```\n",
    "This command collect all static files from applications `static` folders and folders listed in `STATICFILES_DIRS` into the directory you specify in the `STATIC_ROOT` setting.\n",
    "\n",
    "# Mistake No. 9: Pure python scripts for utilities or scripts\n",
    "\n",
    "Django has a necy feature called Management Commands, it's interesting use it instead develop things from scratch.\n",
    "I've already used it in remember app to send messages everyday and following the book `Web Development with Django` used it to init database with some entries."
   ]
  }
 ],
 "metadata": {
  "kernelspec": {
   "display_name": "Python 3",
   "language": "python",
   "name": "python3"
  },
  "language_info": {
   "codemirror_mode": {
    "name": "ipython",
    "version": 3
   },
   "file_extension": ".py",
   "mimetype": "text/x-python",
   "name": "python",
   "nbconvert_exporter": "python",
   "pygments_lexer": "ipython3",
   "version": "3.8.8"
  }
 },
 "nbformat": 4,
 "nbformat_minor": 5
}

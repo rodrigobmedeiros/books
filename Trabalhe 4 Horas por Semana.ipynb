{
 "cells": [
  {
   "cell_type": "markdown",
   "id": "7bf94e22",
   "metadata": {},
   "source": [
    "# Trabalhe 4 Horas por Semana\n",
    "## Timothy Ferriss"
   ]
  },
  {
   "cell_type": "markdown",
   "id": "2afe430a",
   "metadata": {},
   "source": [
    "A construção de um expert:\n",
    "\n",
    "Esta parte comenta sobre o fato de não necessariamente a pessoa que sabe mais sobre um determinado assunto é a que vai ter mais sucesso ou vender mais produtos, vc precisa acima de tudo ser reconhecido como expert com uma credibilidade tal que vc consiga vender mais produtos.\n",
    "\n",
    "Ações para ser reconhecido como expert:\n",
    "\n",
    "1) Inscrever-se em associações que sejam referencia sobre o tema que gostaria de ser expert\\\n",
    "2) Ler os 3 livros mais vendidos sobre o assunto, fazer um resumo de uma página de cada um deles\\\n",
    "3) ministrar palestras em universidades, se oferecer para dar palestras em grandes em empresas\n",
    "\n",
    "- Pesquisar sobre o Amazon Associates para ter um link de afiliado na amazon e aplicar no vídeos do youtube, recomendações e tudo mais.\n",
    "\n",
    "Cita utilização do camtasia para gravar chamadar e tudo mais. Atualmente acabei utilizando o moravi mas pelo que vi ela cria arquivos gigantescos.\n",
    "\n",
    "- Google Adward Keyword Tool: utilizado para ver os termos de busca mais procurados e similares com alta taxa de busca\n",
    "\n",
    "pensando nessa linha deve ter algo similar para # no youtube.\n"
   ]
  },
  {
   "cell_type": "code",
   "execution_count": null,
   "id": "03ca86cb",
   "metadata": {},
   "outputs": [],
   "source": []
  }
 ],
 "metadata": {
  "kernelspec": {
   "display_name": "Python 3",
   "language": "python",
   "name": "python3"
  },
  "language_info": {
   "codemirror_mode": {
    "name": "ipython",
    "version": 3
   },
   "file_extension": ".py",
   "mimetype": "text/x-python",
   "name": "python",
   "nbconvert_exporter": "python",
   "pygments_lexer": "ipython3",
   "version": "3.8.8"
  }
 },
 "nbformat": 4,
 "nbformat_minor": 5
}
